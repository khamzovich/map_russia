{
 "cells": [
  {
   "cell_type": "code",
   "execution_count": null,
   "id": "3772a8ee",
   "metadata": {},
   "outputs": [],
   "source": [
    "from urllib.request import urlopen\n",
    "import json\n",
    "import numpy as np\n",
    "import requests\n",
    "import pandas as pd\n",
    "from selenium import webdriver\n",
    "from bs4 import BeautifulSoup as bs\n",
    "import plotly.graph_objects as go\n",
    "import plotly.express as px"
   ]
  },
  {
   "cell_type": "markdown",
   "id": "7e7cbed5",
   "metadata": {},
   "source": [
    "# Визуализация данных на российской карте библиотекой Plotly"
   ]
  },
  {
   "cell_type": "markdown",
   "id": "f28e30cd",
   "metadata": {},
   "source": [
    "## Собираем данные "
   ]
  },
  {
   "cell_type": "markdown",
   "id": "a27a2e3b",
   "metadata": {},
   "source": [
    "### стопкоронавирус.рф"
   ]
  },
  {
   "cell_type": "code",
   "execution_count": null,
   "id": "4376edd6",
   "metadata": {},
   "outputs": [],
   "source": [
    "driver = webdriver.Chrome()\n",
    "driver.get('https://стопкоронавирус.рф/information/')\n",
    "source_data = driver.page_source\n",
    "soup = bs(source_data, 'lxml')"
   ]
  },
  {
   "cell_type": "markdown",
   "id": "9ed08391",
   "metadata": {},
   "source": [
    "Создаем список регионов **region_names_list** (наименования регионов находятся под тегом \\<th>)"
   ]
  },
  {
   "cell_type": "code",
   "execution_count": null,
   "id": "441b31f2",
   "metadata": {},
   "outputs": [],
   "source": [
    "divs_region_names = soup.find_all('th', {'class':'col-region'})\n",
    "region_list_covid = []\n",
    "for i in range(1, len(divs_region_names)):\n",
    "    region_name = divs_region_names[i].text\n",
    "    region_name = region_name.replace('\\n', '').replace('  ', '').strip()\n",
    "    region_list_covid.append(region_name)"
   ]
  },
  {
   "cell_type": "markdown",
   "id": "06800557",
   "metadata": {},
   "source": [
    "#### Создаем списки с данными (данные находятся с столбцах таблицы под тегом \\<td>)"
   ]
  },
  {
   "cell_type": "code",
   "execution_count": null,
   "id": "67d86ac8",
   "metadata": {},
   "outputs": [],
   "source": [
    "divs_data = soup.find_all('td')\n",
    "sick_list = []    # выявлено\n",
    "new_list = []     # новые\n",
    "healed_list = []  # выздоровело\n",
    "died_list = []    # умерло"
   ]
  },
  {
   "cell_type": "code",
   "execution_count": null,
   "id": "af5a11ae",
   "metadata": {},
   "outputs": [],
   "source": [
    "divs_data[2:6]"
   ]
  },
  {
   "cell_type": "code",
   "execution_count": null,
   "id": "48d5a38f",
   "metadata": {},
   "outputs": [],
   "source": [
    "counter = 1\n",
    "for td in divs_data[2:]:\n",
    "    if counter == 1:\n",
    "        sick_list.append(int(td.text))\n",
    "    elif counter == 2:\n",
    "        new_list.append(int(td.text))\n",
    "    elif counter == 3:\n",
    "        healed_list.append(int(td.text))\n",
    "    elif counter == 4:\n",
    "        died_list.append(int(td.text))\n",
    "        counter = 0\n",
    "    counter += 1"
   ]
  },
  {
   "cell_type": "markdown",
   "id": "2910f5d2",
   "metadata": {},
   "source": [
    "#### Объединяем списки в датафрейм **df_covid**"
   ]
  },
  {
   "cell_type": "code",
   "execution_count": null,
   "id": "29ffa598",
   "metadata": {},
   "outputs": [],
   "source": [
    "df_covid = pd.DataFrame()\n",
    "df_covid['region_name'] = region_list_covid\n",
    "df_covid['sick'] = sick_list\n",
    "df_covid['new'] = new_list\n",
    "df_covid['healed'] = healed_list\n",
    "df_covid['died'] = died_list"
   ]
  },
  {
   "cell_type": "code",
   "execution_count": null,
   "id": "cb92d34f",
   "metadata": {},
   "outputs": [],
   "source": [
    "df_covid.head()"
   ]
  },
  {
   "cell_type": "markdown",
   "id": "1e878f87",
   "metadata": {},
   "source": [
    "### geojson"
   ]
  },
  {
   "cell_type": "markdown",
   "id": "2f07c376",
   "metadata": {},
   "source": [
    "Скачаем открытый geojson с границами российских регионов, найденный по одной из первых ссылок в Google по запросу «russia geojson». В нём уже есть кое-какие данные: например, наименования регионов. Но этот geojson-файл пока ещё не подходит под требуемый формат Plotly: в нём не размечены идентификаторы регионов."
   ]
  },
  {
   "cell_type": "code",
   "execution_count": null,
   "id": "0df67368",
   "metadata": {},
   "outputs": [],
   "source": [
    "with urlopen('https://raw.githubusercontent.com/codeforamerica/click_that_hood/master/public/data/russia.geojson') as response:\n",
    "    counties = json.load(response)"
   ]
  },
  {
   "cell_type": "markdown",
   "id": "e8e1854d",
   "metadata": {},
   "source": [
    "#### Создаем список с регионами из counties и сравниваем со списком регионов из df_covid"
   ]
  },
  {
   "cell_type": "code",
   "execution_count": null,
   "id": "1c048198",
   "metadata": {},
   "outputs": [],
   "source": [
    "region_list_geojson = [counties['features'][i]['properties']['name'] for i in range(len(counties['features']))]"
   ]
  },
  {
   "cell_type": "code",
   "execution_count": null,
   "id": "7ee5a22b",
   "metadata": {},
   "outputs": [],
   "source": [
    "set_regions_covid = set(df_covid.region_name.to_list())\n",
    "set_region_geojson = set(region_list_geojson)\n",
    "diff = set_regions_covid.symmetric_difference(set_region_geojson)\n",
    "diff"
   ]
  },
  {
   "cell_type": "markdown",
   "id": "cb2087d6",
   "metadata": {},
   "source": [
    "Кроме разметки идентификаторов есть различия в наименовании регионов. Например, на сайте **стопкоронавирус.рф**, откуда мы будем брать свежие данные о заболевших, республика Башкортостан занесена как «Республика Башкортостан», а в нашем geojson-файле — просто «Башкортостан». Все эти различия необходимо устранить во избежание конфликтов. Кроме того, все первые буквы в названиях регионов должны начинаться с верхнего регистра."
   ]
  },
  {
   "cell_type": "markdown",
   "id": "29323c1e",
   "metadata": {},
   "source": [
    "Вносим правки в **counties**:"
   ]
  },
  {
   "cell_type": "code",
   "execution_count": null,
   "id": "d81fa373",
   "metadata": {},
   "outputs": [],
   "source": [
    "for k in range(len(counties['features'])):\n",
    "    counties['features'][k]['id'] = k\n",
    "    if counties['features'][k]['properties']['name'] == 'Бурятия':\n",
    "        counties['features'][k]['properties']['name'] = 'Республика Бурятия'\n",
    "    elif counties['features'][k]['properties']['name'] == 'Тыва':\n",
    "        counties['features'][k]['properties']['name'] = 'Республика Тыва'\n",
    "    elif counties['features'][k]['properties']['name'] == 'Ханты-Мансийский автономный округ - Югра':\n",
    "        counties['features'][k]['properties']['name'] = 'Ханты-Мансийский АО'\n",
    "    elif counties['features'][k]['properties']['name'] == 'Адыгея':\n",
    "        counties['features'][k]['properties']['name'] = 'Республика Адыгея'\n",
    "    elif counties['features'][k]['properties']['name'] == 'Татарстан':\n",
    "        counties['features'][k]['properties']['name'] = 'Республика Татарстан'\n",
    "    elif counties['features'][k]['properties']['name'] == 'Марий Эл':\n",
    "        counties['features'][k]['properties']['name'] = 'Республика Марий Эл'\n",
    "    elif counties['features'][k]['properties']['name'] == 'Чувашия':\n",
    "        counties['features'][k]['properties']['name'] = 'Республика Чувашия'\n",
    "    elif counties['features'][k]['properties']['name'] == 'Северная Осетия - Алания':\n",
    "        counties['features'][k]['properties']['name'] = 'Республика Северная Осетия — Алания' \n",
    "    elif counties['features'][k]['properties']['name'] == 'Алтай':\n",
    "        counties['features'][k]['properties']['name'] = 'Республика Алтай'\n",
    "    elif counties['features'][k]['properties']['name'] == 'Дагестан':\n",
    "        counties['features'][k]['properties']['name'] = 'Республика Дагестан'\n",
    "    elif counties['features'][k]['properties']['name'] == 'Ингушетия':\n",
    "        counties['features'][k]['properties']['name'] = 'Республика Ингушетия'\n",
    "    elif counties['features'][k]['properties']['name'] == 'Башкортостан':\n",
    "        counties['features'][k]['properties']['name'] = 'Республика Башкортостан'\n",
    "    elif counties['features'][k]['properties']['name'] in ['Удмуртская республика',\n",
    "                                                           'Кабардино-Балкарская республика',\n",
    "                                                           'Карачаево-Черкесская республика',\n",
    "                                                           'Чеченская республика']:\n",
    "        counties['features'][k]['properties']['name'] = counties['features'][k]['properties']['name'].title()"
   ]
  },
  {
   "cell_type": "markdown",
   "id": "444d8eef",
   "metadata": {},
   "source": [
    "Делаем повторное сравнение:"
   ]
  },
  {
   "cell_type": "code",
   "execution_count": null,
   "id": "673c974c",
   "metadata": {},
   "outputs": [],
   "source": [
    "region_list_geojson = [counties['features'][i]['properties']['name'] for i in range(len(counties['features']))]"
   ]
  },
  {
   "cell_type": "code",
   "execution_count": null,
   "id": "0d923b9f",
   "metadata": {},
   "outputs": [],
   "source": [
    "set_regions_covid = set(df_covid.region_name.to_list())\n",
    "set_region_geojson = set(region_list_geojson)\n",
    "diff = set_regions_covid.symmetric_difference(set_region_geojson)\n",
    "diff"
   ]
  },
  {
   "cell_type": "markdown",
   "id": "53338870",
   "metadata": {},
   "source": [
    "**Так лучше!**"
   ]
  },
  {
   "cell_type": "markdown",
   "id": "c2a8fa6b",
   "metadata": {},
   "source": [
    "Из получившегося geojson-файла сформируем DataFrame с регионами России: возьмём идентификаторы и наименования."
   ]
  },
  {
   "cell_type": "code",
   "execution_count": null,
   "id": "fb41aeb3",
   "metadata": {},
   "outputs": [],
   "source": [
    "region_id_list = []\n",
    "regions_list = []\n",
    "for k in range(len(counties['features'])):\n",
    "    region_id_list.append(counties['features'][k]['id'])\n",
    "    regions_list.append(counties['features'][k]['properties']['name'])\n",
    "df_geojson = pd.DataFrame()\n",
    "df_geojson['region_id'] = region_id_list\n",
    "df_geojson['region_name'] = regions_list"
   ]
  },
  {
   "cell_type": "code",
   "execution_count": null,
   "id": "49853116",
   "metadata": {},
   "outputs": [],
   "source": [
    "df_geojson.head()"
   ]
  },
  {
   "cell_type": "markdown",
   "id": "29a2f699",
   "metadata": {},
   "source": [
    "### wikipedia.org"
   ]
  },
  {
   "cell_type": "code",
   "execution_count": null,
   "id": "cebf4095",
   "metadata": {},
   "outputs": [],
   "source": [
    "driver = webdriver.Chrome()\n",
    "driver.get('https://ru.wikipedia.org/wiki/%D0%9D%D0%B0%D1%81%D0%B5%D0%BB%D0%B5%D0%BD%D0%B8%D0%B5_%D1%81%D1%83%D0%B1%D1%8A%D0%B5%D0%BA%D1%82%D0%BE%D0%B2_%D0%A0%D0%BE%D1%81%D1%81%D0%B8%D0%B9%D1%81%D0%BA%D0%BE%D0%B9_%D0%A4%D0%B5%D0%B4%D0%B5%D1%80%D0%B0%D1%86%D0%B8%D0%B8')\n",
    "source_data = driver.page_source\n",
    "soup_wiki = bs(source_data, 'lxml')"
   ]
  },
  {
   "cell_type": "markdown",
   "id": "6114d9cc",
   "metadata": {},
   "source": [
    "#### Создаем списки с данными (данные находятся с столбцах таблицы под тегом \\<td>)"
   ]
  },
  {
   "cell_type": "code",
   "execution_count": null,
   "id": "405b0e62",
   "metadata": {},
   "outputs": [],
   "source": [
    "divs_data_wiki = soup_wiki.find_all('td')"
   ]
  },
  {
   "cell_type": "code",
   "execution_count": null,
   "id": "17ff06c9",
   "metadata": {},
   "outputs": [],
   "source": [
    "divs_data_wiki[1:10]"
   ]
  },
  {
   "cell_type": "code",
   "execution_count": null,
   "id": "78dd26ca",
   "metadata": {},
   "outputs": [],
   "source": [
    "region_name = []\n",
    "popul = []\n",
    "percent = []\n",
    "city_pop_percent = []\n",
    "square = []\n",
    "density = []\n",
    "\n",
    "counter = 1\n",
    "for td in divs_data_wiki[1:]:\n",
    "    if td.text.strip() == 'РФ':\n",
    "        break\n",
    "    if counter == 1:\n",
    "        region_name.append(td.text.strip())\n",
    "    elif counter == 2:\n",
    "        population = ''\n",
    "        tmp_pop = td.text\n",
    "        for symbol in tmp_pop:\n",
    "            if symbol.isdigit():\n",
    "                population += symbol\n",
    "        popul.append(int(population))\n",
    "    elif counter == 3:\n",
    "        percent.append(float(td.text.strip().replace(',', '.')))\n",
    "    elif counter == 5:\n",
    "        city_pop_percent.append(float(td.text.strip().replace(',', '.')))\n",
    "    elif counter == 8:\n",
    "        sq = ''\n",
    "        tmp_square = td.text\n",
    "        for symbol in tmp_square:\n",
    "            if symbol.isdigit():\n",
    "                sq += symbol\n",
    "        square.append(int(sq))\n",
    "    elif counter == 9:\n",
    "        density.append(float(td.text.strip().replace(',', '.')))\n",
    "    if counter == 11:\n",
    "        counter = 0\n",
    "    counter += 1"
   ]
  },
  {
   "cell_type": "code",
   "execution_count": null,
   "id": "afe8603a",
   "metadata": {},
   "outputs": [],
   "source": [
    "divs_data_wiki[8].text.strip()"
   ]
  },
  {
   "cell_type": "code",
   "execution_count": null,
   "id": "fdb2ed0d",
   "metadata": {},
   "outputs": [],
   "source": [
    "sorted(region_name)[:10]"
   ]
  },
  {
   "cell_type": "markdown",
   "id": "b0f1f6de",
   "metadata": {},
   "source": [
    "#### Сравниваем списки регионов region_name (с сайта wikipedia) со списком из df_covid"
   ]
  },
  {
   "cell_type": "code",
   "execution_count": null,
   "id": "9c5e8ebc",
   "metadata": {},
   "outputs": [],
   "source": [
    "set_region_wiki = set(region_name)\n",
    "set_regions_covid.symmetric_difference(set_region_wiki)"
   ]
  },
  {
   "cell_type": "markdown",
   "id": "a04110fe",
   "metadata": {},
   "source": [
    "Вносим правки в **region_name** (с сайта wikipedia):"
   ]
  },
  {
   "cell_type": "code",
   "execution_count": null,
   "id": "54ac37a5",
   "metadata": {},
   "outputs": [],
   "source": [
    "for r in enumerate(region_name):\n",
    "    if r[1] == 'Архангельская область (с НАО)':\n",
    "        region_name[r[0]] = 'Архангельская область'\n",
    "    elif r[1] == 'Республика СевернаяОсетия — Алания':\n",
    "        region_name[r[0]] = 'Республика Северная Осетия — Алания'\n",
    "    elif r[1] == 'Чувашская Республика':\n",
    "        region_name[r[0]] = 'Республика Чувашия'\n",
    "    elif r[1] == 'Тюменская областьбез ХМАО и ЯНАО':\n",
    "        region_name[r[0]] = 'Тюменская область'\n",
    "    elif r[1] == 'Ханты-Мансийскийавтономный округ — Югра':\n",
    "        region_name[r[0]] = 'Ханты-Мансийский АО'"
   ]
  },
  {
   "cell_type": "markdown",
   "id": "a48070ae",
   "metadata": {},
   "source": [
    "Делаем повторное сравнение"
   ]
  },
  {
   "cell_type": "code",
   "execution_count": null,
   "id": "e6cca006",
   "metadata": {},
   "outputs": [],
   "source": [
    "set_region_wiki = set(region_name)\n",
    "set_regions_covid.symmetric_difference(set_region_wiki)"
   ]
  },
  {
   "cell_type": "markdown",
   "id": "c6f6e8f6",
   "metadata": {},
   "source": [
    "Создаем датафрейм:"
   ]
  },
  {
   "cell_type": "code",
   "execution_count": null,
   "id": "dc8a7b7f",
   "metadata": {},
   "outputs": [],
   "source": [
    "df_wiki = pd.DataFrame({'region_name': region_name,\n",
    "                        'population': popul,\n",
    "                        'percent': percent,\n",
    "                        'city_pop_percent': city_pop_percent,\n",
    "                        'square': square,\n",
    "                        'density': density\n",
    "                       })\n",
    "df_wiki.head()"
   ]
  },
  {
   "cell_type": "markdown",
   "id": "c95d628a",
   "metadata": {},
   "source": [
    "## Объединяем собранные данные"
   ]
  },
  {
   "cell_type": "code",
   "execution_count": null,
   "id": "f416dcdb",
   "metadata": {},
   "outputs": [],
   "source": [
    "# df = pd.DataFrame()"
   ]
  },
  {
   "cell_type": "code",
   "execution_count": null,
   "id": "ef6733ef",
   "metadata": {},
   "outputs": [],
   "source": [
    "df = df_wiki.merge(df_geojson, on='region_name')\n",
    "df = df.merge(df_covid, on='region_name')"
   ]
  },
  {
   "cell_type": "code",
   "execution_count": null,
   "id": "41260d52",
   "metadata": {},
   "outputs": [],
   "source": [
    "df.head()"
   ]
  },
  {
   "cell_type": "markdown",
   "id": "f8bde94c",
   "metadata": {},
   "source": [
    "Объединяем датафреймы и добавляем колонки:\n",
    "* **sick_percent_full** - процент людей в регионе с выявленным COVID-19\n",
    "* **sick_per_day** - количество заболевших людей в регионе на миллион человек за день\n",
    "* **died_per_mln** - количество умерших людей в регионе на миллион человек"
   ]
  },
  {
   "cell_type": "code",
   "execution_count": null,
   "id": "547b7d22",
   "metadata": {},
   "outputs": [],
   "source": [
    "df['sick_percent_full'] = round(100 * df.sick / df.population, 2)\n",
    "df['sick_per_day'] = round(1_000_000 * df.new / df.population, 2)\n",
    "df['died_per_mln'] = round(1_000_000 * df.died / df.population, 2)"
   ]
  },
  {
   "cell_type": "code",
   "execution_count": null,
   "id": "2ab99a19",
   "metadata": {},
   "outputs": [],
   "source": [
    "df.head()"
   ]
  },
  {
   "cell_type": "code",
   "execution_count": null,
   "id": "f0cf7fed",
   "metadata": {},
   "outputs": [],
   "source": [
    "df.shape"
   ]
  },
  {
   "cell_type": "markdown",
   "id": "29314bb9",
   "metadata": {},
   "source": [
    "### Визуализация данных на карте Plotly"
   ]
  },
  {
   "cell_type": "markdown",
   "id": "7131e823",
   "metadata": {},
   "source": [
    "#### Процент людей в регионе с выявленным COVID-19"
   ]
  },
  {
   "cell_type": "code",
   "execution_count": null,
   "id": "3c3f9fee",
   "metadata": {},
   "outputs": [],
   "source": [
    "fig = go.Figure(go.Choroplethmapbox(geojson=counties,\n",
    "                           locations=df['region_id'],\n",
    "                           z=df['sick_percent_full'],\n",
    "                           text=df['region_name'],\n",
    "                           colorscale='Reds',\n",
    "                           colorbar_thickness=20,\n",
    "                           customdata=np.stack([df['new'], df['sick'] - df['healed'], df['died'], df['sick'], df['healed']], axis=-1),\n",
    "                           hovertemplate='<b>%{text}</b>'+ '<br>' +\n",
    "                                         'Процент выявленных случаев: %{z}' + '<br>' +\n",
    "                                         'Новых: %{customdata[0]}' + '<br>' +\n",
    "                                         'Активных: %{customdata[1]}' + '<br>' +\n",
    "                                         'Умерло: %{customdata[2]}' + '<br>' +\n",
    "                                         'Всего случаев: %{customdata[3]}' + '<br>' +\n",
    "                                         'Выздоровело: %{customdata[4]}' +\n",
    "                                         '<extra></extra>',\n",
    "                           hoverinfo='text, z'))"
   ]
  },
  {
   "cell_type": "code",
   "execution_count": null,
   "id": "13e77b5e",
   "metadata": {},
   "outputs": [],
   "source": [
    "fig.update_layout(title_text = 'Процент людей в регионе с выявленным COVID-19',\n",
    "                  mapbox_style=\"carto-positron\",\n",
    "                  mapbox_zoom=2,\n",
    "                  mapbox_center = {\"lat\": 66, \"lon\": 94})\n",
    "fig.update_traces(marker_line_width=.1)\n",
    "fig.update_layout(margin={\"r\":0,\"t\":35,\"l\":0,\"b\":0})\n",
    "fig.show()"
   ]
  },
  {
   "cell_type": "markdown",
   "id": "cb504b18",
   "metadata": {},
   "source": [
    "#### Количество умерших людей в регионе на миллион человек"
   ]
  },
  {
   "cell_type": "code",
   "execution_count": null,
   "id": "00fd1484",
   "metadata": {},
   "outputs": [],
   "source": [
    "fig = go.Figure(go.Choroplethmapbox(geojson=counties,\n",
    "                           locations=df['region_id'],\n",
    "                           z=df['died_per_mln'],\n",
    "                           text=df['region_name'],\n",
    "                           colorscale='Reds',\n",
    "                           colorbar_thickness=20,\n",
    "                           customdata=np.stack([df['new'], df['sick'] - df['healed'], df['died'], df['sick'], df['healed']], axis=-1),\n",
    "                           hovertemplate='<b>%{text}</b>'+ '<br>' +\n",
    "                                         'Умерло на миллион человек: %{z}' + '<br>' +\n",
    "                                         'Новых: %{customdata[0]}' + '<br>' +\n",
    "                                         'Активных: %{customdata[1]}' + '<br>' +\n",
    "                                         'Умерло: %{customdata[2]}' + '<br>' +\n",
    "                                         'Всего случаев: %{customdata[3]}' + '<br>' +\n",
    "                                         'Выздоровело: %{customdata[4]}' +\n",
    "                                         '<extra></extra>',\n",
    "                           hoverinfo='text, z'))"
   ]
  },
  {
   "cell_type": "code",
   "execution_count": null,
   "id": "3632b150",
   "metadata": {},
   "outputs": [],
   "source": [
    "fig.update_layout(title_text = 'Количество умерших людей в регионе на миллион человек',\n",
    "                  mapbox_style=\"carto-positron\",\n",
    "                  mapbox_zoom=2,\n",
    "                  mapbox_center = {\"lat\": 66, \"lon\": 94})\n",
    "fig.update_traces(marker_line_width=.1)\n",
    "fig.update_layout(margin={\"r\":0,\"t\":35,\"l\":0,\"b\":0})\n",
    "fig.show()"
   ]
  },
  {
   "cell_type": "markdown",
   "id": "871364f1",
   "metadata": {},
   "source": [
    "#### Количество заболевших людей в регионе на миллион человек за день"
   ]
  },
  {
   "cell_type": "code",
   "execution_count": null,
   "id": "486f6417",
   "metadata": {},
   "outputs": [],
   "source": [
    "fig = go.Figure(go.Choroplethmapbox(geojson=counties,\n",
    "                           locations=df['region_id'],\n",
    "                           z=df['sick_per_day'],\n",
    "                           text=df['region_name'],\n",
    "                           colorscale='Reds',\n",
    "                           colorbar_thickness=20,\n",
    "                           customdata=np.stack([df['new'], df['sick'] - df['healed'], df['died'], df['sick'], df['healed']], axis=-1),\n",
    "                           hovertemplate='<b>%{text}</b>'+ '<br>' +\n",
    "                                         'Выявлено за день на миллион человек: %{z}' + '<br>' +\n",
    "                                         'Новых: %{customdata[0]}' + '<br>' +\n",
    "                                         'Активных: %{customdata[1]}' + '<br>' +\n",
    "                                         'Умерло: %{customdata[2]}' + '<br>' +\n",
    "                                         'Всего случаев: %{customdata[3]}' + '<br>' +\n",
    "                                         'Выздоровело: %{customdata[4]}' +\n",
    "                                         '<extra></extra>',\n",
    "                           hoverinfo='text, z'))"
   ]
  },
  {
   "cell_type": "code",
   "execution_count": null,
   "id": "99a2dabf",
   "metadata": {},
   "outputs": [],
   "source": [
    "fig.update_layout(title_text = 'Количество заболевших людей в регионе на миллион человек за день',\n",
    "                  mapbox_style=\"carto-positron\",\n",
    "                  mapbox_zoom=2,\n",
    "                  mapbox_center = {\"lat\": 66, \"lon\": 94})\n",
    "fig.update_traces(marker_line_width=.1)\n",
    "fig.update_layout(margin={\"r\":0,\"t\":35,\"l\":0,\"b\":0})\n",
    "fig.show()"
   ]
  },
  {
   "cell_type": "markdown",
   "id": "bd7ef9f4",
   "metadata": {},
   "source": [
    "#### Процент городского населения"
   ]
  },
  {
   "cell_type": "code",
   "execution_count": null,
   "id": "4215a29d",
   "metadata": {},
   "outputs": [],
   "source": [
    "fig = go.Figure(go.Choroplethmapbox(geojson=counties,\n",
    "                           locations=df['region_id'],\n",
    "                           z=df['city_pop_percent'],\n",
    "                           text=df['region_name'],\n",
    "                           colorscale='Greens',\n",
    "                           colorbar_thickness=20,\n",
    "                           customdata=np.stack([df['population']], axis=-1),\n",
    "                           hovertemplate='<b>%{text}</b>'+ '<br>' +\n",
    "                                         'Процент городского населения: %{z}' + '<br>' +\n",
    "                                         'Население региона: %{customdata[0]}' + '<br>' +\n",
    "                                         '<extra></extra>',\n",
    "                           hoverinfo='text, z'))"
   ]
  },
  {
   "cell_type": "code",
   "execution_count": null,
   "id": "469f4266",
   "metadata": {},
   "outputs": [],
   "source": [
    "fig.update_layout(title_text = 'Процент городского населения',\n",
    "                  mapbox_style=\"carto-positron\",\n",
    "                  mapbox_zoom=2,\n",
    "                  mapbox_center = {\"lat\": 66, \"lon\": 94})\n",
    "fig.update_traces(marker_line_width=.1)\n",
    "fig.update_layout(margin={\"r\":0,\"t\":35,\"l\":0,\"b\":0})\n",
    "fig.show()"
   ]
  },
  {
   "cell_type": "markdown",
   "id": "217fe113",
   "metadata": {},
   "source": [
    "#### Плотность населения в регионах"
   ]
  },
  {
   "cell_type": "code",
   "execution_count": null,
   "id": "3341712a",
   "metadata": {},
   "outputs": [],
   "source": [
    "df_dens = df.copy()\n",
    "df_dens['log_dens'] = np.log(df_dens.density)\n",
    "df_dens['log_dens'] = df_dens['log_dens'] - min(df_dens['log_dens'])\n",
    "df_dens.head()"
   ]
  },
  {
   "cell_type": "code",
   "execution_count": null,
   "id": "5639448d",
   "metadata": {},
   "outputs": [],
   "source": [
    "fig = go.Figure(go.Choroplethmapbox(geojson=counties,\n",
    "                           locations=df_dens['region_id'],\n",
    "                           z=df_dens['log_dens'],\n",
    "                           text=df_dens['region_name'],\n",
    "                           colorscale='Blues',\n",
    "                           colorbar_thickness=20,\n",
    "                           customdata=np.stack([df_dens['density'], df_dens['population']], axis=-1),\n",
    "                           hovertemplate='<b>%{text}</b>'+ '<br>' +\n",
    "                                         'Плотность населения: %{customdata[0]}' + '<br>' +\n",
    "                                         'Население региона: %{customdata[1]}' + '<br>' +\n",
    "                                         '<extra></extra>',\n",
    "                           hoverinfo='text, z'))"
   ]
  },
  {
   "cell_type": "code",
   "execution_count": null,
   "id": "ebbbbf49",
   "metadata": {},
   "outputs": [],
   "source": [
    "fig.update_layout(title_text = 'Плотность населения в регионах (чел/кв.км)',\n",
    "                  mapbox_style=\"white-bg\",  # empty white canvas which results in no external HTTP requests\n",
    "                  mapbox_zoom=1,\n",
    "                  mapbox_center = {\"lat\": 66, \"lon\": 94}\n",
    "#                   geo_scope=\"asia\"\n",
    "                 )\n",
    "fig.update_traces(marker_line_width=.1)\n",
    "fig.update_layout(margin={\"r\":0,\"t\":35,\"l\":0,\"b\":0})\n",
    "fig.show()"
   ]
  }
 ],
 "metadata": {
  "celltoolbar": "Отсутствует",
  "kernelspec": {
   "display_name": "Python 3",
   "language": "python",
   "name": "python3"
  },
  "language_info": {
   "codemirror_mode": {
    "name": "ipython",
    "version": 3
   },
   "file_extension": ".py",
   "mimetype": "text/x-python",
   "name": "python",
   "nbconvert_exporter": "python",
   "pygments_lexer": "ipython3",
   "version": "3.8.8"
  }
 },
 "nbformat": 4,
 "nbformat_minor": 5
}
